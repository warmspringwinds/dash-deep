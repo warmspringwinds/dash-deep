{
 "cells": [
  {
   "cell_type": "code",
   "execution_count": 1,
   "metadata": {},
   "outputs": [
    {
     "name": "stdout",
     "output_type": "stream",
     "text": [
      "This is the format of your plot grid:\n",
      "[ (1,1) x1,y1 ]\n",
      "[ (2,1) x2,y2 ]\n",
      "\n"
     ]
    }
   ],
   "source": [
    "from dash_deep.models import EndovisBinary\n",
    "from dash_deep.logging import Experiment\n",
    "from random import random\n",
    "\n",
    "experiment_model = EndovisBinary()\n",
    "experiment_instance = Experiment(experiment_model)"
   ]
  },
  {
   "cell_type": "code",
   "execution_count": 2,
   "metadata": {},
   "outputs": [
    {
     "data": {
      "text/plain": [
       "<Endovis Binary Segmentation experiment id=6, batch_size=100, learning_rate=0.0001>, output_stride=8, graphs=<dash_deep.plot.BaseGraph instance at 0x7f7a276263f8>"
      ]
     },
     "execution_count": 2,
     "metadata": {},
     "output_type": "execute_result"
    }
   ],
   "source": [
    "experiment_instance.start()\n",
    "\n",
    "experiment_instance.sql_model_instance"
   ]
  },
  {
   "cell_type": "code",
   "execution_count": 4,
   "metadata": {},
   "outputs": [],
   "source": [
    "from time import sleep\n",
    "\n",
    "epochs = range(10)\n",
    "iterations = range(10)\n",
    "\n",
    "\n",
    "for epoch in epochs:\n",
    "    \n",
    "    for iteration in iterations:\n",
    "\n",
    "        experiment_instance.add_next_iteration_results(training_loss=random())\n",
    "        \n",
    "        sleep(5)\n",
    "    \n",
    "    experiment_instance.add_next_iteration_results(training_accuracy=random(),\n",
    "                                                   validation_accuracy=random())\n",
    "experiment_instance.finish()"
   ]
  }
 ],
 "metadata": {
  "kernelspec": {
   "display_name": "Python 2",
   "language": "python",
   "name": "python2"
  },
  "language_info": {
   "codemirror_mode": {
    "name": "ipython",
    "version": 2
   },
   "file_extension": ".py",
   "mimetype": "text/x-python",
   "name": "python",
   "nbconvert_exporter": "python",
   "pygments_lexer": "ipython2",
   "version": "2.7.15"
  }
 },
 "nbformat": 4,
 "nbformat_minor": 2
}
