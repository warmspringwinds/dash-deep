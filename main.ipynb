{
 "cells": [
  {
   "cell_type": "code",
   "execution_count": 1,
   "metadata": {},
   "outputs": [
    {
     "name": "stdout",
     "output_type": "stream",
     "text": [
      "Detected and registered a scipt classification\n",
      "\n",
      "Detected and registered a scipt semantic_segmentation_train_script\n",
      "\n"
     ]
    },
    {
     "name": "stderr",
     "output_type": "stream",
     "text": [
      "/home/daniil/anaconda2/lib/python2.7/site-packages/flask_sqlalchemy/__init__.py:794: FSADeprecationWarning:\n",
      "\n",
      "SQLALCHEMY_TRACK_MODIFICATIONS adds significant overhead and will be disabled by default in the future.  Set it to True or False to suppress this warning.\n",
      "\n"
     ]
    }
   ],
   "source": [
    "from wtforms import Form\n",
    "\n",
    "from wtforms.ext.sqlalchemy.orm import model_form\n",
    "\n",
    "from dash_deep.app import scripts_db_models\n",
    "from dash_deep.widjets.widjets_factory import generate_widjet_from_form\n",
    "from dash_deep.utils import generate_wtform_classes_and_input_form_widjets\n",
    "\n",
    "\n",
    "wtform_classes, scripts_input_form_widjets = generate_wtform_classes_and_input_form_widjets(scripts_db_models)\n",
    "\n",
    "\n",
    "\n",
    "\n",
    "# register this widjets now?\n",
    "\n",
    "# you have endpoints"
   ]
  },
  {
   "cell_type": "code",
   "execution_count": 6,
   "metadata": {},
   "outputs": [],
   "source": [
    "bla = ['test', 'train']"
   ]
  },
  {
   "cell_type": "code",
   "execution_count": 8,
   "metadata": {},
   "outputs": [
    {
     "data": {
      "text/plain": [
       "1"
      ]
     },
     "execution_count": 8,
     "metadata": {},
     "output_type": "execute_result"
    }
   ],
   "source": [
    "bla.index('train')"
   ]
  },
  {
   "cell_type": "code",
   "execution_count": 3,
   "metadata": {},
   "outputs": [
    {
     "data": {
      "text/plain": [
       "[wtforms.ext.sqlalchemy.orm.PascalSegmentationForm,\n",
       " wtforms.ext.sqlalchemy.orm.ImagenetClassificationForm]"
      ]
     },
     "execution_count": 3,
     "metadata": {},
     "output_type": "execute_result"
    }
   ],
   "source": [
    "wtform_classes"
   ]
  },
  {
   "cell_type": "code",
   "execution_count": 2,
   "metadata": {},
   "outputs": [
    {
     "data": {
      "text/plain": [
       "[Div([Label('batch_size'), Input('batch_size'), Label('learning_rate'), Input('learning_rate'), Label('output_stride'), Input('output_stride'), Button(children='Run', id='run-experiment-button')]),\n",
       " Div([Label('batch_size'), Input('batch_size'), Label('learning_rate'), Input('learning_rate'), Button(children='Run', id='run-experiment-button')])]"
      ]
     },
     "execution_count": 2,
     "metadata": {},
     "output_type": "execute_result"
    }
   ],
   "source": [
    "scripts_input_form_widjets"
   ]
  },
  {
   "cell_type": "code",
   "execution_count": 2,
   "metadata": {},
   "outputs": [
    {
     "data": {
      "text/plain": [
       "[Div([Label('batch_size'), Input('batch_size'), Label('learning_rate'), Input('learning_rate'), Label('output_stride'), Input('output_stride'), Button(children='Run', id='run-experiment-button')]),\n",
       " Div([Label('batch_size'), Input('batch_size'), Label('learning_rate'), Input('learning_rate'), Button(children='Run', id='run-experiment-button')])]"
      ]
     },
     "execution_count": 2,
     "metadata": {},
     "output_type": "execute_result"
    }
   ],
   "source": [
    "scripts_input_form_widjets"
   ]
  },
  {
   "cell_type": "code",
   "execution_count": 8,
   "metadata": {},
   "outputs": [
    {
     "data": {
      "text/plain": [
       "[('batch_size',\n",
       "  <UnboundField(TextField, (), {u'default': None, u'filters': [], u'validators': [<wtforms.validators.Required object at 0x7f7a4ce9a750>, <wtforms.validators.Length object at 0x7f7a4ce9a7d0>]})>),\n",
       " ('learning_rate',\n",
       "  <UnboundField(TextField, (), {u'default': None, u'filters': [], u'validators': [<wtforms.validators.Required object at 0x7f7a4ce9a790>, <wtforms.validators.Length object at 0x7f7a4ce9a890>]})>),\n",
       " ('output_stride',\n",
       "  <UnboundField(TextField, (), {u'default': None, u'filters': [], u'validators': [<wtforms.validators.Required object at 0x7f7a4ce9a650>, <wtforms.validators.Length object at 0x7f7a4ce9a950>]})>)]"
      ]
     },
     "execution_count": 8,
     "metadata": {},
     "output_type": "execute_result"
    }
   ],
   "source": [
    "wtform_class._unbound_fields"
   ]
  },
  {
   "cell_type": "code",
   "execution_count": 2,
   "metadata": {},
   "outputs": [
    {
     "data": {
      "text/plain": [
       "[wtforms.ext.sqlalchemy.orm.PascalSegmentationForm,\n",
       " wtforms.ext.sqlalchemy.orm.ImagenetClassificationForm]"
      ]
     },
     "execution_count": 2,
     "metadata": {},
     "output_type": "execute_result"
    }
   ],
   "source": [
    "wtform_classes"
   ]
  },
  {
   "cell_type": "code",
   "execution_count": 3,
   "metadata": {},
   "outputs": [
    {
     "data": {
      "text/plain": [
       "Div([Label('batch_size'), Input('batch_size'), Label('learning_rate'), Input('learning_rate'), Label('output_stride'), Input('output_stride'), Button(children='Run', id='run-experiment-button')])"
      ]
     },
     "execution_count": 3,
     "metadata": {},
     "output_type": "execute_result"
    }
   ],
   "source": [
    "input_form_widjet"
   ]
  },
  {
   "cell_type": "code",
   "execution_count": 11,
   "metadata": {},
   "outputs": [
    {
     "name": "stdout",
     "output_type": "stream",
     "text": [
      "<input id=\"batch_size\" name=\"batch_size\" type=\"text\" value=\"\">\n",
      "<input id=\"learning_rate\" name=\"learning_rate\" type=\"text\" value=\"\">\n",
      "<input id=\"output_stride\" name=\"output_stride\" type=\"text\" value=\"\">\n"
     ]
    }
   ],
   "source": [
    "for i in form_instance:\n",
    "    print(i)"
   ]
  },
  {
   "cell_type": "code",
   "execution_count": 7,
   "metadata": {},
   "outputs": [
    {
     "data": {
      "text/plain": [
       "wtforms.ext.sqlalchemy.orm.PascalSegmentationForm"
      ]
     },
     "execution_count": 7,
     "metadata": {},
     "output_type": "execute_result"
    }
   ],
   "source": [
    "ScriptForm"
   ]
  },
  {
   "cell_type": "code",
   "execution_count": 4,
   "metadata": {},
   "outputs": [
    {
     "data": {
      "text/plain": [
       "[dash_deep.scripts.semantic_segmentation_train_script.PascalSegmentation,\n",
       " dash_deep.scripts.classification.ImagenetClassification]"
      ]
     },
     "execution_count": 4,
     "metadata": {},
     "output_type": "execute_result"
    }
   ],
   "source": [
    "scripts_db_models"
   ]
  }
 ],
 "metadata": {
  "kernelspec": {
   "display_name": "Python 2",
   "language": "python",
   "name": "python2"
  },
  "language_info": {
   "codemirror_mode": {
    "name": "ipython",
    "version": 2
   },
   "file_extension": ".py",
   "mimetype": "text/x-python",
   "name": "python",
   "nbconvert_exporter": "python",
   "pygments_lexer": "ipython2",
   "version": "2.7.14"
  }
 },
 "nbformat": 4,
 "nbformat_minor": 2
}
