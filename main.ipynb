{
 "cells": [
  {
   "cell_type": "code",
   "execution_count": 1,
   "metadata": {},
   "outputs": [
    {
     "name": "stdout",
     "output_type": "stream",
     "text": [
      "Detected and registered a scipt classification\n",
      "\n",
      "Detected and registered a scipt semantic_segmentation_train_script\n",
      "\n"
     ]
    },
    {
     "name": "stderr",
     "output_type": "stream",
     "text": [
      "/home/daniil/anaconda2/lib/python2.7/site-packages/flask_sqlalchemy/__init__.py:794: FSADeprecationWarning:\n",
      "\n",
      "SQLALCHEMY_TRACK_MODIFICATIONS adds significant overhead and will be disabled by default in the future.  Set it to True or False to suppress this warning.\n",
      "\n"
     ]
    }
   ],
   "source": [
    "# recover the lost form creatinon script\n",
    "\n",
    "from wtforms import Form\n",
    "\n",
    "\n",
    "from wtforms.ext.sqlalchemy.orm import model_form\n",
    "\n",
    "\n",
    "from dash_deep.app import scripts_db_models\n",
    "from dash_deep.widjets.widjets_factory import generate_widjet_from_form\n",
    "from dash_deep.utils import generate_wtform_script_classes\n",
    "\n",
    "\n",
    "# def generate_wtform_script_classes(scripts_db_models):\n",
    "    \n",
    "#     def get_wtform_script_class(script_db_model):\n",
    "        \n",
    "#         script_wtform_class = model_form(script_db_model, Form)\n",
    "        \n",
    "#         return script_wtform_class\n",
    "    \n",
    "#     script_wtform_classes = map(lambda script_db_model: get_wtform_script_class(script_db_model),\n",
    "#                                 scripts_db_models)\n",
    "    \n",
    "#     return script_wtform_classes\n",
    "\n",
    "\n",
    "wtform_classes = generate_script_wtform_classes(scripts_db_models)\n",
    "\n",
    "\n",
    "form_instance = wtform_classes[0]()\n",
    "\n",
    "input_form_widjet = generate_widjet_from_form(form_instance)\n",
    "\n",
    "\n",
    "# take this form and covert into widjet\n",
    "\n",
    "#MyForm = model_form(MyModel, Form)"
   ]
  },
  {
   "cell_type": "code",
   "execution_count": 2,
   "metadata": {},
   "outputs": [
    {
     "data": {
      "text/plain": [
       "[wtforms.ext.sqlalchemy.orm.PascalSegmentationForm,\n",
       " wtforms.ext.sqlalchemy.orm.ImagenetClassificationForm]"
      ]
     },
     "execution_count": 2,
     "metadata": {},
     "output_type": "execute_result"
    }
   ],
   "source": [
    "wtform_classes"
   ]
  },
  {
   "cell_type": "code",
   "execution_count": 3,
   "metadata": {},
   "outputs": [
    {
     "data": {
      "text/plain": [
       "Div([Label('batch_size'), Input('batch_size'), Label('learning_rate'), Input('learning_rate'), Label('output_stride'), Input('output_stride'), Button(children='Run', id='run-experiment-button')])"
      ]
     },
     "execution_count": 3,
     "metadata": {},
     "output_type": "execute_result"
    }
   ],
   "source": [
    "input_form_widjet"
   ]
  },
  {
   "cell_type": "code",
   "execution_count": 11,
   "metadata": {},
   "outputs": [
    {
     "name": "stdout",
     "output_type": "stream",
     "text": [
      "<input id=\"batch_size\" name=\"batch_size\" type=\"text\" value=\"\">\n",
      "<input id=\"learning_rate\" name=\"learning_rate\" type=\"text\" value=\"\">\n",
      "<input id=\"output_stride\" name=\"output_stride\" type=\"text\" value=\"\">\n"
     ]
    }
   ],
   "source": [
    "for i in form_instance:\n",
    "    print(i)"
   ]
  },
  {
   "cell_type": "code",
   "execution_count": 7,
   "metadata": {},
   "outputs": [
    {
     "data": {
      "text/plain": [
       "wtforms.ext.sqlalchemy.orm.PascalSegmentationForm"
      ]
     },
     "execution_count": 7,
     "metadata": {},
     "output_type": "execute_result"
    }
   ],
   "source": [
    "ScriptForm"
   ]
  },
  {
   "cell_type": "code",
   "execution_count": 4,
   "metadata": {},
   "outputs": [
    {
     "data": {
      "text/plain": [
       "[dash_deep.scripts.semantic_segmentation_train_script.PascalSegmentation,\n",
       " dash_deep.scripts.classification.ImagenetClassification]"
      ]
     },
     "execution_count": 4,
     "metadata": {},
     "output_type": "execute_result"
    }
   ],
   "source": [
    "scripts_db_models"
   ]
  }
 ],
 "metadata": {
  "kernelspec": {
   "display_name": "Python 2",
   "language": "python",
   "name": "python2"
  },
  "language_info": {
   "codemirror_mode": {
    "name": "ipython",
    "version": 2
   },
   "file_extension": ".py",
   "mimetype": "text/x-python",
   "name": "python",
   "nbconvert_exporter": "python",
   "pygments_lexer": "ipython2",
   "version": "2.7.14"
  }
 },
 "nbformat": 4,
 "nbformat_minor": 2
}
