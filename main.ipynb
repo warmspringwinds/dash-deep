{
 "cells": [
  {
   "cell_type": "code",
   "execution_count": 1,
   "metadata": {},
   "outputs": [
    {
     "name": "stderr",
     "output_type": "stream",
     "text": [
      "/home/daniil/anaconda2/lib/python2.7/site-packages/flask_sqlalchemy/__init__.py:794: FSADeprecationWarning:\n",
      "\n",
      "SQLALCHEMY_TRACK_MODIFICATIONS adds significant overhead and will be disabled by default in the future.  Set it to True or False to suppress this warning.\n",
      "\n"
     ]
    }
   ],
   "source": [
    "from wtforms import Form\n",
    "\n",
    "from wtforms.ext.sqlalchemy.orm import model_form\n",
    "from dash_deep.app import scripts_db_models\n",
    "from dash_deep.widjets.widjets_factory import generate_widjet_from_form\n",
    "from dash_deep.utils import generate_wtform_instances_and_input_form_widjets\n",
    "from dash_deep.app import db\n",
    "\n",
    "from dash_deep.scripts.semantic_segmentation_train_script import run\n",
    "import click\n",
    "\n",
    "from dash_deep.cli.cli_factory import generate_click_cli\n",
    "\n",
    "# Decide on the model saving/init and so on logic\n",
    "# start with bash?\n",
    "\n",
    "def function_to_be_wrapped(**kwargs):\n",
    "    \n",
    "    print(kwargs)\n",
    "\n",
    "from dash_deep.app import scripts_db_models\n",
    "\n",
    "from dash_deep.scripts.semantic_segmentation_train_script import PascalSegmentation\n",
    "\n",
    "forms, widjets = generate_wtform_instances_and_input_form_widjets([PascalSegmentation])\n",
    "\n",
    "form = forms[0]\n",
    "\n",
    "cli = generate_click_cli(form, function_to_be_wrapped)"
   ]
  },
  {
   "cell_type": "code",
   "execution_count": 1,
   "metadata": {},
   "outputs": [
    {
     "name": "stderr",
     "output_type": "stream",
     "text": [
      "/home/daniil/anaconda2/lib/python2.7/site-packages/flask_sqlalchemy/__init__.py:794: FSADeprecationWarning:\n",
      "\n",
      "SQLALCHEMY_TRACK_MODIFICATIONS adds significant overhead and will be disabled by default in the future.  Set it to True or False to suppress this warning.\n",
      "\n"
     ]
    }
   ],
   "source": [
    "from dash_deep.app import db"
   ]
  },
  {
   "cell_type": "code",
   "execution_count": 2,
   "metadata": {},
   "outputs": [],
   "source": [
    "db.drop_all()"
   ]
  },
  {
   "cell_type": "code",
   "execution_count": 1,
   "metadata": {},
   "outputs": [],
   "source": [
    "from pebble import ProcessPool\n",
    "from time import sleep\n",
    "from multiprocessing import Manager\n",
    "import torch\n",
    "\n",
    "process_pool = ProcessPool(max_tasks=1)\n",
    "\n",
    "def function():\n",
    "        \n",
    "    tensor = torch.ones(100, 100, 10).cuda()\n",
    "    \n",
    "    sleep(2)\n",
    "    \n",
    "    return 'success'\n",
    "\n",
    "\n",
    "future = process_pool.schedule(function)"
   ]
  },
  {
   "cell_type": "code",
   "execution_count": 3,
   "metadata": {},
   "outputs": [],
   "source": [
    "class Dummy:\n",
    "    \n",
    "    title = 'Test Test Test'\n",
    "    \n",
    "class Another:\n",
    "    \n",
    "    title = 'Boo Boo Boo'"
   ]
  },
  {
   "cell_type": "code",
   "execution_count": 12,
   "metadata": {},
   "outputs": [],
   "source": [
    "script_db_models_test = [Dummy, Another]"
   ]
  },
  {
   "cell_type": "code",
   "execution_count": 11,
   "metadata": {},
   "outputs": [
    {
     "name": "stdout",
     "output_type": "stream",
     "text": [
      "test_test_test\n",
      "boo_boo_boo\n"
     ]
    }
   ],
   "source": [
    "for class_obj in class_list:\n",
    "    \n",
    "    print(class_obj.title.lower().replace(' ', '_'))"
   ]
  },
  {
   "cell_type": "code",
   "execution_count": 10,
   "metadata": {},
   "outputs": [],
   "source": [
    "tests = \"I am\"\n",
    "\n",
    "tests.replace()"
   ]
  },
  {
   "cell_type": "code",
   "execution_count": null,
   "metadata": {},
   "outputs": [],
   "source": [
    "def get_script_titles(script_db_models):\n",
    "    \n",
    "    return map(lambda script_db_models: script_db_models, )"
   ]
  },
  {
   "cell_type": "code",
   "execution_count": 15,
   "metadata": {},
   "outputs": [],
   "source": [
    "def get_script_titles_and_url_endpoints(script_db_models):\n",
    "    \"\"\"Generates titles and url endpoints for each script from its sqlalchemy model class.\n",
    "    \n",
    "    Converts sqlalchemy class for each script into title and url endpoint that will be used\n",
    "    on the front page of all scripts.\n",
    "    \n",
    "    Parameters\n",
    "    ----------\n",
    "    script_db_models : list of sqlalchemy classes\n",
    "        List containing sqlalchemy classes which represent each script.\n",
    "    \n",
    "    Returns\n",
    "    -------\n",
    "    script_title_names : list of strings\n",
    "        List of strings representing titles for each script.\n",
    "        \n",
    "    script_files_url_endpoints : list of strings\n",
    "        List of strings representing url endpoints.\n",
    "    \"\"\"\n",
    "    \n",
    "    script_titles = map(lambda script_db_model: script_db_model.title, script_db_models)\n",
    "    \n",
    "    script_url_endpoints = map(lambda script_title: script_title.lower().replace(' ', '_'),\n",
    "                          script_titles)\n",
    "    \n",
    "    script_full_url_endpoints = map(lambda script_url_endpoint: '/scripts/' + script_url_endpoint,\n",
    "                                    script_url_endpoints) \n",
    "    \n",
    "    return script_titles, script_full_url_endpoints\n",
    "    "
   ]
  },
  {
   "cell_type": "code",
   "execution_count": 16,
   "metadata": {},
   "outputs": [],
   "source": [
    "one, two = get_script_titles_and_url_endpoints(script_db_models_test)"
   ]
  },
  {
   "cell_type": "code",
   "execution_count": 17,
   "metadata": {},
   "outputs": [
    {
     "data": {
      "text/plain": [
       "['Test Test Test', 'Boo Boo Boo']"
      ]
     },
     "execution_count": 17,
     "metadata": {},
     "output_type": "execute_result"
    }
   ],
   "source": [
    "one"
   ]
  },
  {
   "cell_type": "code",
   "execution_count": 18,
   "metadata": {},
   "outputs": [
    {
     "data": {
      "text/plain": [
       "['/scripts/test_test_test', '/scripts/boo_boo_boo']"
      ]
     },
     "execution_count": 18,
     "metadata": {},
     "output_type": "execute_result"
    }
   ],
   "source": [
    "two"
   ]
  }
 ],
 "metadata": {
  "kernelspec": {
   "display_name": "Python 2",
   "language": "python",
   "name": "python2"
  },
  "language_info": {
   "codemirror_mode": {
    "name": "ipython",
    "version": 2
   },
   "file_extension": ".py",
   "mimetype": "text/x-python",
   "name": "python",
   "nbconvert_exporter": "python",
   "pygments_lexer": "ipython2",
   "version": "2.7.14"
  }
 },
 "nbformat": 4,
 "nbformat_minor": 2
}
