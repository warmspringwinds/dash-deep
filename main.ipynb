{
 "cells": [
  {
   "cell_type": "code",
   "execution_count": 1,
   "metadata": {},
   "outputs": [
    {
     "name": "stderr",
     "output_type": "stream",
     "text": [
      "/home/daniil/anaconda2/lib/python2.7/site-packages/flask_sqlalchemy/__init__.py:794: FSADeprecationWarning:\n",
      "\n",
      "SQLALCHEMY_TRACK_MODIFICATIONS adds significant overhead and will be disabled by default in the future.  Set it to True or False to suppress this warning.\n",
      "\n"
     ]
    }
   ],
   "source": [
    "from wtforms import Form\n",
    "\n",
    "from wtforms.ext.sqlalchemy.orm import model_form\n",
    "from dash_deep.app import scripts_db_models\n",
    "from dash_deep.widjets.widjets_factory import generate_widjet_from_form\n",
    "from dash_deep.utils import generate_wtform_instances_and_input_form_widjets\n",
    "from dash_deep.app import db\n",
    "\n",
    "from dash_deep.scripts.semantic_segmentation_train_script import run\n",
    "import click\n",
    "\n",
    "from dash_deep.cli.cli_factory import generate_click_cli\n",
    "\n",
    "# Decide on the model saving/init and so on logic\n",
    "# start with bash?\n",
    "\n",
    "def function_to_be_wrapped(**kwargs):\n",
    "    \n",
    "    print(kwargs)\n",
    "\n",
    "from dash_deep.app import scripts_db_models\n",
    "\n",
    "from dash_deep.scripts.semantic_segmentation_train_script import PascalSegmentation\n",
    "\n",
    "forms, widjets = generate_wtform_instances_and_input_form_widjets([PascalSegmentation])\n",
    "\n",
    "form = forms[0]\n",
    "\n",
    "cli = generate_click_cli(form, function_to_be_wrapped)"
   ]
  },
  {
   "cell_type": "code",
   "execution_count": 5,
   "metadata": {},
   "outputs": [
    {
     "name": "stdout",
     "output_type": "stream",
     "text": [
      "{'learning_rate': None, 'output_stride': None, 'batch_size': None}\n"
     ]
    }
   ],
   "source": [
    "\n",
    "\n",
    "# Let's push data this way\n",
    "\n",
    "function_to_be_wrapped(**form.data)"
   ]
  },
  {
   "cell_type": "code",
   "execution_count": 3,
   "metadata": {},
   "outputs": [
    {
     "data": {
      "text/plain": [
       "{'batch_size': None, 'learning_rate': None, 'output_stride': None}"
      ]
     },
     "execution_count": 3,
     "metadata": {},
     "output_type": "execute_result"
    }
   ],
   "source": [
    "form.data"
   ]
  },
  {
   "cell_type": "code",
   "execution_count": 3,
   "metadata": {},
   "outputs": [
    {
     "data": {
      "text/plain": [
       "{'main': <function dash_deep.scripts.semantic_segmentation_train_script.run>}"
      ]
     },
     "execution_count": 3,
     "metadata": {},
     "output_type": "execute_result"
    }
   ],
   "source": [
    "PascalSegmentation.actions"
   ]
  },
  {
   "cell_type": "code",
   "execution_count": 2,
   "metadata": {},
   "outputs": [
    {
     "data": {
      "text/plain": [
       "<wtforms.ext.sqlalchemy.orm.PascalSegmentationForm at 0x7fb0c4d94710>"
      ]
     },
     "execution_count": 2,
     "metadata": {},
     "output_type": "execute_result"
    }
   ],
   "source": [
    "click.argument"
   ]
  },
  {
   "cell_type": "code",
   "execution_count": 3,
   "metadata": {},
   "outputs": [
    {
     "name": "stdout",
     "output_type": "stream",
     "text": [
      "<input id=\"batch_size\" name=\"batch_size\" type=\"text\" value=\"\">\n",
      "<input id=\"learning_rate\" name=\"learning_rate\" type=\"text\" value=\"\">\n",
      "<input id=\"output_stride\" name=\"output_stride\" type=\"text\" value=\"\">\n"
     ]
    }
   ],
   "source": [
    "for i in form:\n",
    "    \n",
    "    print(i)"
   ]
  },
  {
   "cell_type": "code",
   "execution_count": 4,
   "metadata": {},
   "outputs": [],
   "source": [
    "command = "
   ]
  },
  {
   "cell_type": "code",
   "execution_count": 5,
   "metadata": {},
   "outputs": [
    {
     "data": {
      "text/plain": [
       "<wtforms.ext.sqlalchemy.orm.PascalSegmentationForm at 0x7f6c8d597d10>"
      ]
     },
     "execution_count": 5,
     "metadata": {},
     "output_type": "execute_result"
    }
   ],
   "source": [
    "test"
   ]
  },
  {
   "cell_type": "code",
   "execution_count": 23,
   "metadata": {},
   "outputs": [
    {
     "data": {
      "text/plain": [
       "u'100'"
      ]
     },
     "execution_count": 23,
     "metadata": {},
     "output_type": "execute_result"
    }
   ],
   "source": [
    "a.learning_rate"
   ]
  },
  {
   "cell_type": "code",
   "execution_count": 4,
   "metadata": {},
   "outputs": [],
   "source": [
    "from pebble import ProcessPool\n",
    "from time import sleep\n",
    "from multiprocessing import Manager\n",
    "\n",
    "#from dash_deep.scripts.semantic_segmentation_train_script import run\n",
    "\n",
    "process_pool = ProcessPool()\n",
    "\n",
    "outer_variable = 100\n",
    "\n",
    "\n",
    "\n",
    "# def slow_function(model_obj):\n",
    "    \n",
    "#     db.engine.dispose()\n",
    "    \n",
    "#     sleep(10)\n",
    "    \n",
    "#     db.session.add(model_obj)\n",
    "#     db.session.commit()\n",
    "#     #process_list.append(random.random())\n",
    "        \n",
    "#     return 'success'\n",
    "\n",
    "\n",
    "future1 = process_pool.schedule(new_script_result.actions['main'], args=[new_script_result])\n",
    "#future2 = process_pool.schedule(slow_function, args=[new_script_result])\n",
    "\n",
    "#future = process_pool.schedule(slow_function)\n"
   ]
  },
  {
   "cell_type": "code",
   "execution_count": 16,
   "metadata": {},
   "outputs": [
    {
     "data": {
      "text/plain": [
       "<ProcessFuture at 0x7faf16a26690 state=finished returned str>"
      ]
     },
     "execution_count": 16,
     "metadata": {},
     "output_type": "execute_result"
    }
   ],
   "source": [
    "future1"
   ]
  },
  {
   "cell_type": "code",
   "execution_count": 10,
   "metadata": {},
   "outputs": [
    {
     "data": {
      "text/plain": [
       "'100'"
      ]
     },
     "execution_count": 10,
     "metadata": {},
     "output_type": "execute_result"
    }
   ],
   "source": [
    "future1.result()"
   ]
  }
 ],
 "metadata": {
  "kernelspec": {
   "display_name": "Python 2",
   "language": "python",
   "name": "python2"
  },
  "language_info": {
   "codemirror_mode": {
    "name": "ipython",
    "version": 2
   },
   "file_extension": ".py",
   "mimetype": "text/x-python",
   "name": "python",
   "nbconvert_exporter": "python",
   "pygments_lexer": "ipython2",
   "version": "2.7.14"
  }
 },
 "nbformat": 4,
 "nbformat_minor": 2
}
